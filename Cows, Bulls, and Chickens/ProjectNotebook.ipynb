{
 "cells": [
  {
   "cell_type": "markdown",
   "metadata": {},
   "source": [
    "# Project Description\n",
    "\n",
    "This project is a take on the classic game Cows and Bulls called Cows, Bulls, and Chickens. In this game, the user has to guess a four digit number from using the Cows, Bulls, and Chickens cues in a specific number of tries. The aim of this project is to minimize the number of tries required to guess the correct number. Here is what each cue stands for:\n",
    "\n",
    "## Cows:\n",
    "This is the number of digits which are in the correct position\n",
    "\n",
    "## Bulls:\n",
    "This is the number of digits which are not in the correct position\n",
    "\n",
    "## Chickens:\n",
    "This is the number of digits that are present in the number but could be in the wrong position\n",
    "\n",
    "### Example:\n",
    "Let us say that the randomly-generated, correct number is 2389\n",
    "\n",
    "If you guess 2090, the output will be:\n",
    "cows: 1, bulls: 3, chickens: 2\n",
    "\n",
    "Here there is 1 cow because 2 is in the correct position while the rest are not. There are 3 bulls because 3 of the digits are not in the right position. There are 2 chickens as two of the digits are present in the correct number but could be in the wrong position.\n",
    "\n",
    "\n",
    "The player can also create and play under their username, which is implemented with the help of pickle library and the information is stored in a file named 'UserID.txt'. If there is a repeating user, the code welcomes the user. \n",
    "\n",
    "## GitHub\n",
    "\n",
    "You can also find the project on GitHub at www.github.com/keyranii/Cows_Bulls_Chickens\n"
   ]
  },
  {
   "cell_type": "code",
   "execution_count": null,
   "metadata": {},
   "outputs": [],
   "source": [
    "from my_module.functions import UserID, play, prompt_user\n",
    "import random\n",
    "import os"
   ]
  },
  {
   "cell_type": "code",
   "execution_count": null,
   "metadata": {},
   "outputs": [],
   "source": [
    "play()"
   ]
  }
 ],
 "metadata": {
  "celltoolbar": "Tags",
  "kernelspec": {
   "display_name": "Python 3",
   "language": "python",
   "name": "python3"
  },
  "language_info": {
   "codemirror_mode": {
    "name": "ipython",
    "version": 3
   },
   "file_extension": ".py",
   "mimetype": "text/x-python",
   "name": "python",
   "nbconvert_exporter": "python",
   "pygments_lexer": "ipython3",
   "version": "3.7.3"
  }
 },
 "nbformat": 4,
 "nbformat_minor": 2
}
